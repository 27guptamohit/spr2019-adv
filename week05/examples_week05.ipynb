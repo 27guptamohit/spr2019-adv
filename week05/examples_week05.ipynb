{
 "cells": [
  {
   "cell_type": "code",
   "execution_count": null,
   "metadata": {},
   "outputs": [],
   "source": [
    "import h5py\n",
    "f = h5py.File(\"/home/shared/sp18-is590dv/data/single_dicom.h5\")\n",
    "scan = f[\"/scan\"][:]\n",
    "f.close()"
   ]
  },
  {
   "cell_type": "code",
   "execution_count": null,
   "metadata": {},
   "outputs": [],
   "source": [
    "scan.shape"
   ]
  },
  {
   "cell_type": "code",
   "execution_count": null,
   "metadata": {},
   "outputs": [],
   "source": [
    "%matplotlib inline\n",
    "import matplotlib.pyplot as plt"
   ]
  },
  {
   "cell_type": "code",
   "execution_count": null,
   "metadata": {},
   "outputs": [],
   "source": [
    "scan[:,:,4]\n",
    "scan.ravel()\n",
    "scan.max(axis=0), scan.min(axis=2), scan.sum(axis=1)"
   ]
  },
  {
   "cell_type": "code",
   "execution_count": null,
   "metadata": {},
   "outputs": [],
   "source": [
    "import ipywidgets"
   ]
  },
  {
   "cell_type": "code",
   "execution_count": null,
   "metadata": {},
   "outputs": [],
   "source": [
    "plt.rcParams[\"figure.figsize\"] = (10, 10)"
   ]
  },
  {
   "cell_type": "code",
   "execution_count": null,
   "metadata": {},
   "outputs": [],
   "source": [
    "def f(x, y, z):\n",
    "    min_val = min(scan[x, :, :].min(), scan[:, y, :].min())\n",
    "    min_val = min(scan[:, :, z].min(), min_val)\n",
    "    \n",
    "    max_val = max(scan[x, :, :].max(), scan[:, y, :].max())\n",
    "    max_val = max(scan[:, :, z].max(), max_val)\n",
    "    \n",
    "    data_x = x / 35.0\n",
    "    data_y = y / 511.0\n",
    "    data_z = z / 511.0\n",
    "    \n",
    "    plt.subplot(2, 2, 1)\n",
    "    plt.imshow(scan[x,:,:], extent = [0.0, 1.0, 0.0, 1.0], vmin = min_val, vmax = max_val)\n",
    "    plt.plot([data_z, data_z], [0.0, 1.0], c='w')\n",
    "    plt.plot([0.0, 1.0], [1.0 - data_y, 1.0 - data_y], c='w')\n",
    "\n",
    "    plt.subplot(2, 2, 2)\n",
    "    plt.imshow(scan[:, y, :], extent = [0.0, 1.0, 0.0, 1.0], vmin = min_val, vmax = max_val)\n",
    "    \n",
    "    plt.subplot(2, 2, 3)\n",
    "    plt.imshow(scan[:, :, z], extent = [0.0, 1.0, 0.0, 1.0], vmin = min_val, vmax = max_val)\n",
    "    \n",
    "    plt.subplot(2, 2, 4)\n",
    "    plt.hist(scan[x,:,:].ravel(), bins = 32, alpha = 0.25, facecolor = 'k')\n",
    "    plt.hist(scan[:,y,:].ravel(), bins = 32, alpha = 0.25, facecolor = 'k')\n",
    "    plt.hist(scan[:,:,z].ravel(), bins = 32, alpha = 0.25, facecolor = 'k')\n",
    "\n",
    "ipywidgets.interact(f, x=(0, 35, 1), y = (0, 511, 1), z = (0, 511, 1))"
   ]
  },
  {
   "cell_type": "code",
   "execution_count": null,
   "metadata": {},
   "outputs": [],
   "source": [
    "plt.imshow(scan[18,:,:], extent = [0.0, 1.0, 0.0, 1.0])"
   ]
  },
  {
   "cell_type": "code",
   "execution_count": null,
   "metadata": {},
   "outputs": [],
   "source": [
    "plt.hist(scan.ravel(), bins=128);"
   ]
  },
  {
   "cell_type": "code",
   "execution_count": null,
   "metadata": {},
   "outputs": [],
   "source": []
  }
 ],
 "metadata": {
  "kernelspec": {
   "display_name": "Environment (conda_is590dv-default)",
   "language": "python",
   "name": "conda_is590dv-default"
  },
  "language_info": {
   "codemirror_mode": {
    "name": "ipython",
    "version": 3
   },
   "file_extension": ".py",
   "mimetype": "text/x-python",
   "name": "python",
   "nbconvert_exporter": "python",
   "pygments_lexer": "ipython3",
   "version": "3.6.6"
  }
 },
 "nbformat": 4,
 "nbformat_minor": 2
}
